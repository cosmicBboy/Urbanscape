{
 "metadata": {
  "name": ""
 },
 "nbformat": 3,
 "nbformat_minor": 0,
 "worksheets": [
  {
   "cells": [
    {
     "cell_type": "markdown",
     "metadata": {},
     "source": [
      "# Rules of the Game\n",
      "\n",
      "So now we can see how Agents affect the UrbanScape. `FastFoodAgents` and `GroceryStoreAgents` have the same incentive... to break even, make profits, and stay on the UrbanScape. If they go bankrupt, then they are removed from the grid.\n",
      "\n",
      "Depending on the creation rule that we use, agents will start populating the UrbanScape and affecting the environment around it."
     ]
    },
    {
     "cell_type": "code",
     "collapsed": false,
     "input": [
      "# Import UrbanScape again\n",
      "import UrbanScape.urbanscape as us\n",
      "\n",
      "# In order to animate the UrbanScape\n",
      "from UrbanScape.animator import animate_urbanscape"
     ],
     "language": "python",
     "metadata": {},
     "outputs": [],
     "prompt_number": 1
    },
    {
     "cell_type": "code",
     "collapsed": false,
     "input": [
      "# Create an UrbanScape \n",
      "# size = 20, rent = 100000, randomize = True\n",
      "# set the create_rule to random_create_rule\n",
      "my_urbanscape = us.UrbanScape(20, 100000, randomize = True, create_rule = us.random_create_rule)\n",
      "animate_urbanscape(my_urbanscape)"
     ],
     "language": "python",
     "metadata": {},
     "outputs": [],
     "prompt_number": 2
    },
    {
     "cell_type": "code",
     "collapsed": false,
     "input": [
      "# Create an UrbanScape \n",
      "# size = 20, rent = 100000, randomize = True\n",
      "# set the create_rule to random_create_rule\n",
      "my_urbanscape = us.UrbanScape(20, 100000, randomize = True, create_rule = us.profit_probability_create_rule)\n",
      "animate_urbanscape(my_urbanscape)"
     ],
     "language": "python",
     "metadata": {},
     "outputs": []
    }
   ],
   "metadata": {}
  }
 ]
}